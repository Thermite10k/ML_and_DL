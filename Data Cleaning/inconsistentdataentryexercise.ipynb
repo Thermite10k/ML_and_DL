{
 "cells": [
  {
   "cell_type": "code",
   "execution_count": 1,
   "id": "81cfc27a-6c43-4a14-8afd-3b267cf4bd42",
   "metadata": {},
   "outputs": [
    {
     "name": "stderr",
     "output_type": "stream",
     "text": [
      "C:\\Python312\\Lib\\site-packages\\fuzzywuzzy\\fuzz.py:11: UserWarning: Using slow pure-python SequenceMatcher. Install python-Levenshtein to remove this warning\n",
      "  warnings.warn('Using slow pure-python SequenceMatcher. Install python-Levenshtein to remove this warning')\n"
     ]
    }
   ],
   "source": [
    "import pandas as pd\n",
    "import numpy as np\n",
    "import fuzzywuzzy\n",
    "from fuzzywuzzy import process\n",
    "import charset_normalizer"
   ]
  },
  {
   "cell_type": "code",
   "execution_count": 2,
   "id": "861639f1-7c7a-428e-bba6-6d3f34c26bfd",
   "metadata": {},
   "outputs": [],
   "source": [
    "data = pd.read_csv(\"./pakistan_intellectual_capital.csv\")"
   ]
  },
  {
   "cell_type": "code",
   "execution_count": 3,
   "id": "2c6ab825-7f2d-4aa6-9d10-95a8c179a68e",
   "metadata": {},
   "outputs": [],
   "source": [
    "data.Country = data.Country.str.lower()"
   ]
  },
  {
   "cell_type": "code",
   "execution_count": 5,
   "id": "32d8c49a-bce9-4250-ab90-cdada616cac8",
   "metadata": {},
   "outputs": [],
   "source": [
    "data.Country = data.Country.str.strip()"
   ]
  },
  {
   "cell_type": "code",
   "execution_count": 6,
   "id": "1c4af8b0-8771-4be6-87b3-e0109ec5d55a",
   "metadata": {},
   "outputs": [
    {
     "data": {
      "text/plain": [
       "array(['thailand', 'pakistan', 'germany', 'austria', 'australia', 'uk',\n",
       "       'china', 'france', 'usofa', 'southkorea', 'malaysia', 'sweden',\n",
       "       'italy', 'canada', 'norway', 'ireland', 'new zealand', 'urbana',\n",
       "       'portugal', 'russian federation', 'usa', 'finland', 'netherland',\n",
       "       'greece', 'turkey', 'south korea', 'macau', 'singapore', 'spain',\n",
       "       'japan', 'hongkong', 'saudi arabia', 'mauritius', 'scotland'],\n",
       "      dtype=object)"
      ]
     },
     "execution_count": 6,
     "metadata": {},
     "output_type": "execute_result"
    }
   ],
   "source": [
    "countries = data.Country.unique()\n",
    "countries.sort\n",
    "countries"
   ]
  },
  {
   "cell_type": "code",
   "execution_count": 8,
   "id": "17bd3f5d-45e9-4ccf-aa64-629a454f19a6",
   "metadata": {},
   "outputs": [],
   "source": [
    "matches = fuzzywuzzy.process.extract(\"south korea\", countries, limit=10, scorer=fuzzywuzzy.fuzz.token_sort_ratio)"
   ]
  },
  {
   "cell_type": "code",
   "execution_count": 10,
   "id": "54439e5c-63da-4a45-9abf-ebb4e05b2840",
   "metadata": {},
   "outputs": [
    {
     "data": {
      "text/plain": [
       "[('south korea', 100),\n",
       " ('southkorea', 48),\n",
       " ('saudi arabia', 43),\n",
       " ('norway', 35),\n",
       " ('ireland', 33),\n",
       " ('portugal', 32),\n",
       " ('singapore', 30),\n",
       " ('netherland', 29),\n",
       " ('usofa', 25),\n",
       " ('macau', 25)]"
      ]
     },
     "execution_count": 10,
     "metadata": {},
     "output_type": "execute_result"
    }
   ],
   "source": [
    "matches"
   ]
  },
  {
   "cell_type": "code",
   "execution_count": 11,
   "id": "7c702d3d-1087-48f0-be68-f02bc708ef4f",
   "metadata": {},
   "outputs": [],
   "source": [
    "def raplace_matching_in_column(df, column, string_to_match, min_ratio = 47):\n",
    "    # list of unique string\n",
    "    strings = df[column].unique()\n",
    "    #get top 10 close STR to our input\n",
    "    matches = fuzzywuzzy.process.extract(string_to_match, string, limit=10, scorer=fuzzywuzzy.fuzz.token_sort_ratio)\n",
    "    close_matches = [matchse[0] for matches in matches if matches[1] >= min_ratio]\n",
    "    rows_with_matches = df[column].isin(close_matches)\n",
    "    df.loc[rows_with_matchse, column] = string_to_match\n",
    "    print(\"Done\")"
   ]
  },
  {
   "cell_type": "code",
   "execution_count": null,
   "id": "6d916622-7a40-4736-b591-8b2c3f61e0d5",
   "metadata": {},
   "outputs": [],
   "source": []
  }
 ],
 "metadata": {
  "kernelspec": {
   "display_name": "Python 3 (ipykernel)",
   "language": "python",
   "name": "python3"
  },
  "language_info": {
   "codemirror_mode": {
    "name": "ipython",
    "version": 3
   },
   "file_extension": ".py",
   "mimetype": "text/x-python",
   "name": "python",
   "nbconvert_exporter": "python",
   "pygments_lexer": "ipython3",
   "version": "3.12.0"
  }
 },
 "nbformat": 4,
 "nbformat_minor": 5
}
