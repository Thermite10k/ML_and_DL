{
 "cells": [
  {
   "cell_type": "code",
   "execution_count": 6,
   "id": "00401800-1315-4118-b3aa-5088b8acb8dc",
   "metadata": {},
   "outputs": [
    {
     "data": {
      "text/plain": [
       "(1107, 14)"
      ]
     },
     "execution_count": 6,
     "metadata": {},
     "output_type": "execute_result"
    }
   ],
   "source": [
    "import matplotlib.pyplot as plt\n",
    "import pandas as pd\n",
    "plt.rc(\"figure\", autolayout=True)\n",
    "plt.rc(\"axes\", labelweight=\"bold\", labelsize=\"large\", titleweight=\"bold\", titlesize=18, titlepad=10)\n",
    "plt.rc(\"animation\", html=\"html5\")\n",
    "\n",
    "data = pd.read_csv(\"./fuel.csv\")\n",
    "\n",
    "data.shape"
   ]
  },
  {
   "cell_type": "code",
   "execution_count": 8,
   "id": "031694b3-a796-4765-a009-05b90ab03250",
   "metadata": {},
   "outputs": [],
   "source": [
    "data.dropna(axis=0, subset=[\"FE\"], inplace = True)"
   ]
  },
  {
   "cell_type": "code",
   "execution_count": 9,
   "id": "5dc66253-e785-4ebb-aba1-fc605c19011e",
   "metadata": {},
   "outputs": [
    {
     "data": {
      "text/plain": [
       "(1107, 14)"
      ]
     },
     "execution_count": 9,
     "metadata": {},
     "output_type": "execute_result"
    }
   ],
   "source": [
    "data.shape"
   ]
  },
  {
   "cell_type": "code",
   "execution_count": 10,
   "id": "344965e6-e1b0-4b1b-8913-3c853d731e91",
   "metadata": {},
   "outputs": [
    {
     "ename": "SyntaxError",
     "evalue": "invalid syntax (3348512320.py, line 5)",
     "output_type": "error",
     "traceback": [
      "\u001b[1;36m  Cell \u001b[1;32mIn[10], line 5\u001b[1;36m\u001b[0m\n\u001b[1;33m    low_cardinality = [col for col in X.columns if X[col].dtype=\"object\" and X[col].nunique() <10]\u001b[0m\n\u001b[1;37m                                                               ^\u001b[0m\n\u001b[1;31mSyntaxError\u001b[0m\u001b[1;31m:\u001b[0m invalid syntax\n"
     ]
    }
   ],
   "source": [
    "# no missing targets\n",
    "y = data.FE\n",
    "x = data.drop([\"FE\"], axis=1, inplace=True)\n",
    "\n",
    "low_cardinality = [col for col in X.columns if X[col].dtype() =\"object\" and X[col].nunique() <10]"
   ]
  },
  {
   "cell_type": "code",
   "execution_count": null,
   "id": "73ae50ef-7ca0-4f69-a0be-92c289ecefdc",
   "metadata": {},
   "outputs": [],
   "source": []
  }
 ],
 "metadata": {
  "kernelspec": {
   "display_name": "Python 3 (ipykernel)",
   "language": "python",
   "name": "python3"
  },
  "language_info": {
   "codemirror_mode": {
    "name": "ipython",
    "version": 3
   },
   "file_extension": ".py",
   "mimetype": "text/x-python",
   "name": "python",
   "nbconvert_exporter": "python",
   "pygments_lexer": "ipython3",
   "version": "3.12.0"
  }
 },
 "nbformat": 4,
 "nbformat_minor": 5
}
