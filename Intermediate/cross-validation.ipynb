{
 "cells": [
  {
   "cell_type": "code",
   "execution_count": 3,
   "id": "428ac2a7-5389-4c17-b05e-46b4eadd8748",
   "metadata": {
    "scrolled": true
   },
   "outputs": [
    {
     "data": {
      "text/plain": [
       "<bound method NDFrame.head of        Rooms  Distance  Landsize  BuildingArea  YearBuilt\n",
       "0          2       2.5     202.0           NaN        NaN\n",
       "1          2       2.5     156.0          79.0     1900.0\n",
       "2          3       2.5     134.0         150.0     1900.0\n",
       "3          3       2.5      94.0           NaN        NaN\n",
       "4          4       2.5     120.0         142.0     2014.0\n",
       "...      ...       ...       ...           ...        ...\n",
       "13575      4      16.7     652.0           NaN     1981.0\n",
       "13576      3       6.8     333.0         133.0     1995.0\n",
       "13577      3       6.8     436.0           NaN     1997.0\n",
       "13578      4       6.8     866.0         157.0     1920.0\n",
       "13579      4       6.3     362.0         112.0     1920.0\n",
       "\n",
       "[13580 rows x 5 columns]>"
      ]
     },
     "execution_count": 3,
     "metadata": {},
     "output_type": "execute_result"
    }
   ],
   "source": [
    "import pandas as pd\n",
    "\n",
    "data = pd.read_csv(\"./melb_data.csv\")\n",
    "\n",
    "X = data[[\"Rooms\", \"Distance\", \"Landsize\", \"BuildingArea\", \"YearBuilt\"]]\n",
    "y = data.Price\n",
    "\n",
    "X.head"
   ]
  },
  {
   "cell_type": "code",
   "execution_count": 17,
   "id": "958c7336-acdc-482a-a0a2-1d6e76a58c12",
   "metadata": {},
   "outputs": [],
   "source": [
    "from sklearn.compose import ColumnTransformer\n",
    "from sklearn.pipeline import Pipeline\n",
    "from sklearn.impute import SimpleImputer\n",
    "from sklearn.ensemble import RandomForestRegressor\n",
    "from sklearn.metrics import mean_absolute_error\n",
    "\n",
    "numerical_transformer = SimpleImputer(strategy=\"mean\")\n",
    "\n",
    "# preprocessor = ColumnTransformer(\n",
    "#     transformers=[\n",
    "#         ('num', numerical_transformer, X)\n",
    "#     ]\n",
    "# )\n",
    "\n",
    "model = RandomForestRegressor(n_estimators=100, random_state=0)\n",
    "bundle = Pipeline(steps=[\n",
    "    (\"preprocessor\", numerical_transformer),\n",
    "    (\"model\", model)\n",
    "])"
   ]
  },
  {
   "cell_type": "code",
   "execution_count": 18,
   "id": "2a0d0aa1-83bf-40c6-bd6e-6d22b48c707f",
   "metadata": {},
   "outputs": [
    {
     "name": "stdout",
     "output_type": "stream",
     "text": [
      "Score:\t[301030.37999702 301815.50787799 285449.9265583  234645.50725674\n",
      " 259420.38429285]\n"
     ]
    }
   ],
   "source": [
    "from sklearn.model_selection import cross_val_score\n",
    "\n",
    "scores = -1 * cross_val_score(bundle, X, y, cv=5, scoring=\"neg_mean_absolute_error\")\n",
    "\n",
    "print(f\"Score:\\t{scores}\")"
   ]
  },
  {
   "cell_type": "code",
   "execution_count": null,
   "id": "2e617f31-9c55-4db3-a504-0f892031091b",
   "metadata": {},
   "outputs": [],
   "source": []
  }
 ],
 "metadata": {
  "kernelspec": {
   "display_name": "Python 3 (ipykernel)",
   "language": "python",
   "name": "python3"
  },
  "language_info": {
   "codemirror_mode": {
    "name": "ipython",
    "version": 3
   },
   "file_extension": ".py",
   "mimetype": "text/x-python",
   "name": "python",
   "nbconvert_exporter": "python",
   "pygments_lexer": "ipython3",
   "version": "3.12.0"
  }
 },
 "nbformat": 4,
 "nbformat_minor": 5
}
