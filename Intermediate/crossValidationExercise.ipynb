{
 "cells": [
  {
   "cell_type": "code",
   "execution_count": 4,
   "id": "e3f92771-86a0-4e37-92b5-1de775e20c8b",
   "metadata": {},
   "outputs": [],
   "source": [
    "import pandas as pd\n",
    "from sklearn.model_selection import train_test_split\n",
    "\n",
    "train_data = pd.read_csv(\"./train.csv\", index_col=\"Id\")\n",
    "test_data = pd.read_csv(\"./train.csv\", index_col=\"Id\")\n",
    "\n",
    "train_data.dropna(axis=0, inplace=True, subset=[\"SalePrice\"])\n",
    "y = train_data.SalePrice\n",
    "train_data.drop([\"SalePrice\"], axis=1, inplace=True)\n",
    "numeric_cols = [col for col in train_data.columns if train_data[col].dtype in [\"int64\", \"float64\"]]\n",
    "X = train_data[numeric_cols].copy()\n",
    "X_test = test_data[numeric_cols].copy()"
   ]
  },
  {
   "cell_type": "code",
   "execution_count": 5,
   "id": "daba1ad2-09a7-44ee-83b8-93f30e480229",
   "metadata": {},
   "outputs": [],
   "source": [
    "from sklearn.pipeline import Pipeline\n",
    "from sklearn.impute import SimpleImputer\n",
    "from sklearn.ensemble import RandomForestRegressor\n",
    "\n",
    "my_pipeline = Pipeline(\n",
    "    steps=[\n",
    "        (\"preprocessor\", SimpleImputer()),\n",
    "        (\"model\", RandomForestRegressor(n_estimators=100, random_state=0))\n",
    "    ]\n",
    ")"
   ]
  },
  {
   "cell_type": "code",
   "execution_count": 6,
   "id": "353935b9-caae-4990-8d97-85352cc2cdbc",
   "metadata": {},
   "outputs": [
    {
     "name": "stdout",
     "output_type": "stream",
     "text": [
      "Average MAE:\t18054.97936073059\n"
     ]
    }
   ],
   "source": [
    "from sklearn.model_selection import cross_val_score\n",
    "\n",
    "score = -1 * cross_val_score(my_pipeline, X, y, cv=5, scoring=\"neg_mean_absolute_error\")\n",
    "\n",
    "print(f\"Average MAE:\\t{score.mean()}\")"
   ]
  },
  {
   "cell_type": "code",
   "execution_count": 17,
   "id": "cfef7684-c434-41c1-a6cb-6f62d69f6f84",
   "metadata": {},
   "outputs": [],
   "source": [
    "def get_score(n_estimators):\n",
    "    my_pipeline=Pipeline(\n",
    "            steps=[\n",
    "                (\"preprocessor\", SimpleImputer()),\n",
    "                (\"model\", RandomForestRegressor(n_estimators=n_estimators, random_state=0))\n",
    "            ]\n",
    "        )\n",
    "    X.head\n",
    "    for folds in range(5,8):\n",
    "        \n",
    "        score = -1 * cross_val_score(my_pipeline, X,y, cv=folds, scoring=\"neg_mean_absolute_error\")\n",
    "        print(f\"Mean MAE for {folds} folds is:\\t{score.mean()}\")"
   ]
  },
  {
   "cell_type": "code",
   "execution_count": 18,
   "id": "6c2de365-7ac4-4848-9a56-e98b08046c2b",
   "metadata": {},
   "outputs": [
    {
     "name": "stdout",
     "output_type": "stream",
     "text": [
      "Mean MAE for 5 folds is:\t18276.410356164386\n",
      "Mean MAE for 6 folds is:\t17996.489511007665\n",
      "Mean MAE for 7 folds is:\t18073.943651020032\n"
     ]
    }
   ],
   "source": [
    "get_score(50)"
   ]
  },
  {
   "cell_type": "code",
   "execution_count": null,
   "id": "8de9aac2-59fc-4c9d-b1a8-465f7578d1f7",
   "metadata": {},
   "outputs": [],
   "source": []
  }
 ],
 "metadata": {
  "kernelspec": {
   "display_name": "Python 3 (ipykernel)",
   "language": "python",
   "name": "python3"
  },
  "language_info": {
   "codemirror_mode": {
    "name": "ipython",
    "version": 3
   },
   "file_extension": ".py",
   "mimetype": "text/x-python",
   "name": "python",
   "nbconvert_exporter": "python",
   "pygments_lexer": "ipython3",
   "version": "3.12.0"
  }
 },
 "nbformat": 4,
 "nbformat_minor": 5
}
